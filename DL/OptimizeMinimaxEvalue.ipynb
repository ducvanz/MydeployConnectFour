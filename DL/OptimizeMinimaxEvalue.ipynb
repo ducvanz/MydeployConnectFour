{
 "cells": [
  {
   "cell_type": "code",
   "execution_count": 1,
   "metadata": {},
   "outputs": [
    {
     "name": "stdout",
     "output_type": "stream",
     "text": [
      "pygame 2.6.1 (SDL 2.28.4, Python 3.13.1)\n",
      "Hello from the pygame community. https://www.pygame.org/contribute.html\n"
     ]
    }
   ],
   "source": [
    "import sys\n",
    "import os\n",
    "sys.path.append(os.path.abspath(\"..\"))\n",
    "\n",
    "from Simulation.Board import ConnectFourBoard\n",
    "from Constant import RED, YELLOW, IDLE \n",
    "\n",
    "from Simulation.MatchMaker import MatchMaker\n",
    "from AI_AlphaGo.minimaxAndRandom import MinimaxAndRandom"
   ]
  },
  {
   "cell_type": "code",
   "execution_count": 6,
   "metadata": {},
   "outputs": [
    {
     "name": "stdout",
     "output_type": "stream",
     "text": [
      "Has history\n"
     ]
    },
    {
     "data": {
      "text/plain": [
       "['d:\\\\Development Site\\\\Code MESS\\\\Pycharm (Python)\\\\ConnectFour\\\\DL\\\\data\\\\Train_RandomizeMinimax.npy',\n",
       " 'd:\\\\Development Site\\\\Code MESS\\\\Pycharm (Python)\\\\ConnectFour\\\\DL\\\\data\\\\Label_RandomizeMinimax.npy']"
      ]
     },
     "execution_count": 6,
     "metadata": {},
     "output_type": "execute_result"
    }
   ],
   "source": [
    "file_path = [os.path.abspath(\"data/Train_RandomizeMinimax.npy\"), os.path.abspath(\"data/Label_RandomizeMinimax.npy\")]\n",
    "\n",
    "Dual = MatchMaker(\n",
    "    player1=MinimaxAndRandom(depth=5, random_percent_start=0.7, random_percent_end=0.05, eor=0.6),\n",
    "    player2=MinimaxAndRandom(depth=5, random_percent_start=0.9, random_percent_end=0.05, eor=0.6),\n",
    "    display_game=False,\n",
    "    delay=0,\n",
    "    games=100,\n",
    "    train_export_path=file_path[0],\n",
    "    label_export_path=file_path[1],\n",
    "    sleep_between_games=0,\n",
    "    display_turn_runtime=False\n",
    ")\n",
    "\n",
    "file_path"
   ]
  },
  {
   "cell_type": "code",
   "execution_count": 7,
   "metadata": {},
   "outputs": [
    {
     "name": "stdout",
     "output_type": "stream",
     "text": [
      "Game    1/ 100 complete. Red (Randomize Minimax):   0, Yellow (Randomize Minimax):   1, Draws:   0, running 40 turn in 5.664628982543945 seconds\n",
      "Game    2/ 100 complete. Red (Randomize Minimax):   0, Yellow (Randomize Minimax):   2, Draws:   0, running 20 turn in 1.8273847103118896 seconds\n",
      "Game    3/ 100 complete. Red (Randomize Minimax):   1, Yellow (Randomize Minimax):   2, Draws:   0, running 39 turn in 6.782007932662964 seconds\n",
      "Game    4/ 100 complete. Red (Randomize Minimax):   1, Yellow (Randomize Minimax):   3, Draws:   0, running 22 turn in 2.370126962661743 seconds\n",
      "Game    5/ 100 complete. Red (Randomize Minimax):   2, Yellow (Randomize Minimax):   3, Draws:   0, running 47 turn in 5.971511602401733 seconds\n",
      "Game    6/ 100 complete. Red (Randomize Minimax):   3, Yellow (Randomize Minimax):   3, Draws:   0, running 25 turn in 4.43925142288208 seconds\n",
      "Game    7/ 100 complete. Red (Randomize Minimax):   4, Yellow (Randomize Minimax):   3, Draws:   0, running 25 turn in 3.847350597381592 seconds\n",
      "Game    8/ 100 complete. Red (Randomize Minimax):   4, Yellow (Randomize Minimax):   4, Draws:   0, running 14 turn in 1.2032546997070312 seconds\n",
      "Game    9/ 100 complete. Red (Randomize Minimax):   5, Yellow (Randomize Minimax):   4, Draws:   0, running 15 turn in 1.925039529800415 seconds\n",
      "Game   10/ 100 complete. Red (Randomize Minimax):   5, Yellow (Randomize Minimax):   5, Draws:   0, running 32 turn in 4.186520099639893 seconds\n",
      "Game   11/ 100 complete. Red (Randomize Minimax):   6, Yellow (Randomize Minimax):   5, Draws:   0, running 41 turn in 4.458182334899902 seconds\n",
      "Game   12/ 100 complete. Red (Randomize Minimax):   7, Yellow (Randomize Minimax):   5, Draws:   0, running 21 turn in 4.600748538970947 seconds\n",
      "Game   13/ 100 complete. Red (Randomize Minimax):   8, Yellow (Randomize Minimax):   5, Draws:   0, running 43 turn in 5.413019418716431 seconds\n",
      "Game   14/ 100 complete. Red (Randomize Minimax):   8, Yellow (Randomize Minimax):   6, Draws:   0, running 26 turn in 5.468490362167358 seconds\n",
      "Game   15/ 100 complete. Red (Randomize Minimax):   8, Yellow (Randomize Minimax):   7, Draws:   0, running 34 turn in 3.2240054607391357 seconds\n",
      "Game   16/ 100 complete. Red (Randomize Minimax):   9, Yellow (Randomize Minimax):   7, Draws:   0, running 23 turn in 2.865065574645996 seconds\n",
      "Game   17/ 100 complete. Red (Randomize Minimax):   9, Yellow (Randomize Minimax):   8, Draws:   0, running 18 turn in 2.048807382583618 seconds\n",
      "Game   18/ 100 complete. Red (Randomize Minimax):   9, Yellow (Randomize Minimax):   9, Draws:   0, running 18 turn in 2.0258026123046875 seconds\n",
      "Game   19/ 100 complete. Red (Randomize Minimax):   9, Yellow (Randomize Minimax):  10, Draws:   0, running 18 turn in 2.364053726196289 seconds\n",
      "Game   20/ 100 complete. Red (Randomize Minimax):  10, Yellow (Randomize Minimax):  10, Draws:   0, running 27 turn in 3.654675006866455 seconds\n",
      "Game   21/ 100 complete. Red (Randomize Minimax):  11, Yellow (Randomize Minimax):  10, Draws:   0, running 17 turn in 2.8866934776306152 seconds\n",
      "Game   22/ 100 complete. Red (Randomize Minimax):  12, Yellow (Randomize Minimax):  10, Draws:   0, running 35 turn in 7.345245838165283 seconds\n",
      "Game   23/ 100 complete. Red (Randomize Minimax):  12, Yellow (Randomize Minimax):  11, Draws:   0, running 28 turn in 5.762347459793091 seconds\n",
      "Game   24/ 100 complete. Red (Randomize Minimax):  13, Yellow (Randomize Minimax):  11, Draws:   0, running 19 turn in 2.251189947128296 seconds\n",
      "Game   25/ 100 complete. Red (Randomize Minimax):  14, Yellow (Randomize Minimax):  11, Draws:   0, running 15 turn in 2.8153350353240967 seconds\n",
      "Game   26/ 100 complete. Red (Randomize Minimax):  15, Yellow (Randomize Minimax):  11, Draws:   0, running 31 turn in 6.74450421333313 seconds\n",
      "Game   27/ 100 complete. Red (Randomize Minimax):  15, Yellow (Randomize Minimax):  12, Draws:   0, running 24 turn in 3.458876609802246 seconds\n",
      "Game   28/ 100 complete. Red (Randomize Minimax):  15, Yellow (Randomize Minimax):  13, Draws:   0, running 22 turn in 5.512542724609375 seconds\n",
      "Game   29/ 100 complete. Red (Randomize Minimax):  16, Yellow (Randomize Minimax):  13, Draws:   0, running 11 turn in 1.3769052028656006 seconds\n",
      "Game   30/ 100 complete. Red (Randomize Minimax):  16, Yellow (Randomize Minimax):  14, Draws:   0, running 28 turn in 4.249953746795654 seconds\n",
      "Game   31/ 100 complete. Red (Randomize Minimax):  16, Yellow (Randomize Minimax):  15, Draws:   0, running 28 turn in 2.241964340209961 seconds\n",
      "Game   32/ 100 complete. Red (Randomize Minimax):  17, Yellow (Randomize Minimax):  15, Draws:   0, running 21 turn in 5.526616334915161 seconds\n",
      "Game   33/ 100 complete. Red (Randomize Minimax):  17, Yellow (Randomize Minimax):  16, Draws:   0, running 46 turn in 6.55515718460083 seconds\n",
      "Game   34/ 100 complete. Red (Randomize Minimax):  17, Yellow (Randomize Minimax):  17, Draws:   0, running 22 turn in 3.0580780506134033 seconds\n",
      "Game   35/ 100 complete. Red (Randomize Minimax):  18, Yellow (Randomize Minimax):  17, Draws:   0, running 31 turn in 8.747997045516968 seconds\n",
      "Game   36/ 100 complete. Red (Randomize Minimax):  19, Yellow (Randomize Minimax):  17, Draws:   0, running 7 turn in 1.1573035717010498 seconds\n",
      "Game   37/ 100 complete. Red (Randomize Minimax):  20, Yellow (Randomize Minimax):  17, Draws:   0, running 17 turn in 3.2606844902038574 seconds\n",
      "Game   38/ 100 complete. Red (Randomize Minimax):  21, Yellow (Randomize Minimax):  17, Draws:   0, running 17 turn in 1.4265742301940918 seconds\n",
      "Game   39/ 100 complete. Red (Randomize Minimax):  22, Yellow (Randomize Minimax):  17, Draws:   0, running 15 turn in 2.6597559452056885 seconds\n",
      "Game   40/ 100 complete. Red (Randomize Minimax):  22, Yellow (Randomize Minimax):  18, Draws:   0, running 18 turn in 2.632087469100952 seconds\n",
      "Game   41/ 100 complete. Red (Randomize Minimax):  22, Yellow (Randomize Minimax):  19, Draws:   0, running 22 turn in 2.6396665573120117 seconds\n",
      "Game   42/ 100 complete. Red (Randomize Minimax):  23, Yellow (Randomize Minimax):  19, Draws:   0, running 27 turn in 4.740751266479492 seconds\n",
      "Game   43/ 100 complete. Red (Randomize Minimax):  23, Yellow (Randomize Minimax):  20, Draws:   0, running 16 turn in 1.3439981937408447 seconds\n",
      "Game   44/ 100 complete. Red (Randomize Minimax):  23, Yellow (Randomize Minimax):  21, Draws:   0, running 20 turn in 5.414917707443237 seconds\n",
      "Game   45/ 100 complete. Red (Randomize Minimax):  24, Yellow (Randomize Minimax):  21, Draws:   0, running 47 turn in 7.222394227981567 seconds\n",
      "Game   46/ 100 complete. Red (Randomize Minimax):  25, Yellow (Randomize Minimax):  21, Draws:   0, running 17 turn in 4.752904176712036 seconds\n",
      "Game   47/ 100 complete. Red (Randomize Minimax):  26, Yellow (Randomize Minimax):  21, Draws:   0, running 29 turn in 8.116954326629639 seconds\n",
      "Game   48/ 100 complete. Red (Randomize Minimax):  27, Yellow (Randomize Minimax):  21, Draws:   0, running 15 turn in 3.752876043319702 seconds\n",
      "Game   49/ 100 complete. Red (Randomize Minimax):  28, Yellow (Randomize Minimax):  21, Draws:   0, running 13 turn in 2.88077712059021 seconds\n",
      "Game   50/ 100 complete. Red (Randomize Minimax):  28, Yellow (Randomize Minimax):  22, Draws:   0, running 38 turn in 8.524495363235474 seconds\n",
      "Game   51/ 100 complete. Red (Randomize Minimax):  29, Yellow (Randomize Minimax):  22, Draws:   0, running 23 turn in 7.1752378940582275 seconds\n",
      "Game   52/ 100 complete. Red (Randomize Minimax):  30, Yellow (Randomize Minimax):  22, Draws:   0, running 35 turn in 12.290501117706299 seconds\n",
      "Game   53/ 100 complete. Red (Randomize Minimax):  30, Yellow (Randomize Minimax):  23, Draws:   0, running 36 turn in 6.341718912124634 seconds\n",
      "Game   54/ 100 complete. Red (Randomize Minimax):  30, Yellow (Randomize Minimax):  24, Draws:   0, running 30 turn in 7.615722179412842 seconds\n",
      "Game   55/ 100 complete. Red (Randomize Minimax):  31, Yellow (Randomize Minimax):  24, Draws:   0, running 21 turn in 7.613079786300659 seconds\n",
      "Game   56/ 100 complete. Red (Randomize Minimax):  32, Yellow (Randomize Minimax):  24, Draws:   0, running 17 turn in 2.560845375061035 seconds\n",
      "Game   57/ 100 complete. Red (Randomize Minimax):  33, Yellow (Randomize Minimax):  24, Draws:   0, running 27 turn in 4.385174512863159 seconds\n",
      "Game   58/ 100 complete. Red (Randomize Minimax):  34, Yellow (Randomize Minimax):  24, Draws:   0, running 15 turn in 4.3962242603302 seconds\n",
      "Game   59/ 100 complete. Red (Randomize Minimax):  35, Yellow (Randomize Minimax):  24, Draws:   0, running 25 turn in 7.21167516708374 seconds\n",
      "Game   60/ 100 complete. Red (Randomize Minimax):  35, Yellow (Randomize Minimax):  25, Draws:   0, running 44 turn in 3.0521023273468018 seconds\n",
      "Game   61/ 100 complete. Red (Randomize Minimax):  36, Yellow (Randomize Minimax):  25, Draws:   0, running 21 turn in 6.046252250671387 seconds\n",
      "Game   62/ 100 complete. Red (Randomize Minimax):  37, Yellow (Randomize Minimax):  25, Draws:   0, running 29 turn in 8.571932792663574 seconds\n",
      "Game   63/ 100 complete. Red (Randomize Minimax):  38, Yellow (Randomize Minimax):  25, Draws:   0, running 15 turn in 2.274505615234375 seconds\n",
      "Game   64/ 100 complete. Red (Randomize Minimax):  38, Yellow (Randomize Minimax):  26, Draws:   0, running 48 turn in 6.951373815536499 seconds\n",
      "Game   65/ 100 complete. Red (Randomize Minimax):  39, Yellow (Randomize Minimax):  26, Draws:   0, running 21 turn in 3.3439786434173584 seconds\n",
      "Game   66/ 100 complete. Red (Randomize Minimax):  40, Yellow (Randomize Minimax):  26, Draws:   0, running 11 turn in 2.528113842010498 seconds\n",
      "Game   67/ 100 complete. Red (Randomize Minimax):  40, Yellow (Randomize Minimax):  27, Draws:   0, running 16 turn in 5.461644172668457 seconds\n",
      "Game   68/ 100 complete. Red (Randomize Minimax):  41, Yellow (Randomize Minimax):  27, Draws:   0, running 25 turn in 6.409296274185181 seconds\n",
      "Game   69/ 100 complete. Red (Randomize Minimax):  42, Yellow (Randomize Minimax):  27, Draws:   0, running 25 turn in 6.829714298248291 seconds\n",
      "Game   70/ 100 complete. Red (Randomize Minimax):  42, Yellow (Randomize Minimax):  28, Draws:   0, running 46 turn in 9.21459436416626 seconds\n",
      "Game   71/ 100 complete. Red (Randomize Minimax):  42, Yellow (Randomize Minimax):  29, Draws:   0, running 24 turn in 3.2065701484680176 seconds\n",
      "Game   72/ 100 complete. Red (Randomize Minimax):  43, Yellow (Randomize Minimax):  29, Draws:   0, running 27 turn in 8.182206630706787 seconds\n",
      "Game   73/ 100 complete. Red (Randomize Minimax):  43, Yellow (Randomize Minimax):  30, Draws:   0, running 18 turn in 7.990910291671753 seconds\n",
      "Game   74/ 100 complete. Red (Randomize Minimax):  43, Yellow (Randomize Minimax):  31, Draws:   0, running 22 turn in 5.58622670173645 seconds\n",
      "Game   75/ 100 complete. Red (Randomize Minimax):  44, Yellow (Randomize Minimax):  31, Draws:   0, running 31 turn in 7.477538585662842 seconds\n",
      "Game   76/ 100 complete. Red (Randomize Minimax):  44, Yellow (Randomize Minimax):  32, Draws:   0, running 20 turn in 4.600121974945068 seconds\n",
      "Game   77/ 100 complete. Red (Randomize Minimax):  45, Yellow (Randomize Minimax):  32, Draws:   0, running 45 turn in 16.926449060440063 seconds\n",
      "Game   78/ 100 complete. Red (Randomize Minimax):  45, Yellow (Randomize Minimax):  33, Draws:   0, running 16 turn in 7.179040193557739 seconds\n",
      "Game   79/ 100 complete. Red (Randomize Minimax):  45, Yellow (Randomize Minimax):  34, Draws:   0, running 14 turn in 6.674168825149536 seconds\n",
      "Game   80/ 100 complete. Red (Randomize Minimax):  45, Yellow (Randomize Minimax):  35, Draws:   0, running 24 turn in 4.937124729156494 seconds\n",
      "Game   81/ 100 complete. Red (Randomize Minimax):  46, Yellow (Randomize Minimax):  35, Draws:   0, running 23 turn in 6.768417596817017 seconds\n",
      "Game   82/ 100 complete. Red (Randomize Minimax):  46, Yellow (Randomize Minimax):  36, Draws:   0, running 28 turn in 3.5567734241485596 seconds\n",
      "Game   83/ 100 complete. Red (Randomize Minimax):  47, Yellow (Randomize Minimax):  36, Draws:   0, running 25 turn in 6.7837302684783936 seconds\n",
      "Game   84/ 100 complete. Red (Randomize Minimax):  48, Yellow (Randomize Minimax):  36, Draws:   0, running 29 turn in 7.17888879776001 seconds\n",
      "Game   85/ 100 complete. Red (Randomize Minimax):  48, Yellow (Randomize Minimax):  37, Draws:   0, running 26 turn in 6.4666218757629395 seconds\n",
      "Game   86/ 100 complete. Red (Randomize Minimax):  48, Yellow (Randomize Minimax):  38, Draws:   0, running 32 turn in 7.223075866699219 seconds\n",
      "Game   87/ 100 complete. Red (Randomize Minimax):  49, Yellow (Randomize Minimax):  38, Draws:   0, running 15 turn in 3.9121804237365723 seconds\n",
      "Game   88/ 100 complete. Red (Randomize Minimax):  49, Yellow (Randomize Minimax):  39, Draws:   0, running 18 turn in 5.249656677246094 seconds\n",
      "Game   89/ 100 complete. Red (Randomize Minimax):  50, Yellow (Randomize Minimax):  39, Draws:   0, running 29 turn in 14.089513540267944 seconds\n",
      "Game   90/ 100 complete. Red (Randomize Minimax):  50, Yellow (Randomize Minimax):  40, Draws:   0, running 46 turn in 10.317813396453857 seconds\n",
      "Game   91/ 100 complete. Red (Randomize Minimax):  50, Yellow (Randomize Minimax):  41, Draws:   0, running 38 turn in 7.1832497119903564 seconds\n",
      "Game   92/ 100 complete. Red (Randomize Minimax):  51, Yellow (Randomize Minimax):  41, Draws:   0, running 39 turn in 9.330878496170044 seconds\n",
      "Game   93/ 100 complete. Red (Randomize Minimax):  51, Yellow (Randomize Minimax):  42, Draws:   0, running 28 turn in 7.981017351150513 seconds\n",
      "Game   94/ 100 complete. Red (Randomize Minimax):  51, Yellow (Randomize Minimax):  43, Draws:   0, running 40 turn in 5.983232498168945 seconds\n",
      "Game   95/ 100 complete. Red (Randomize Minimax):  52, Yellow (Randomize Minimax):  43, Draws:   0, running 21 turn in 4.218613624572754 seconds\n",
      "Game   96/ 100 complete. Red (Randomize Minimax):  53, Yellow (Randomize Minimax):  43, Draws:   0, running 49 turn in 12.362735033035278 seconds\n",
      "Game   97/ 100 complete. Red (Randomize Minimax):  53, Yellow (Randomize Minimax):  44, Draws:   0, running 26 turn in 4.1843695640563965 seconds\n",
      "Game   98/ 100 complete. Red (Randomize Minimax):  53, Yellow (Randomize Minimax):  45, Draws:   0, running 26 turn in 3.781116247177124 seconds\n",
      "Game   99/ 100 complete. Red (Randomize Minimax):  54, Yellow (Randomize Minimax):  45, Draws:   0, running 35 turn in 8.422648191452026 seconds\n",
      "Game  100/ 100 complete. Red (Randomize Minimax):  55, Yellow (Randomize Minimax):  45, Draws:   0, running 37 turn in 5.5500648021698 seconds\n",
      "\n",
      "Results after 100 games:\n",
      "Red (Randomize Minimax): 55 (55.0%)\n",
      "Yellow (Randomize Minimax): 45 (45.0%)\n",
      "Draws: 0 (0.0%)\n"
     ]
    },
    {
     "data": {
      "text/plain": [
       "{'Random': 528, 'Minimax': 757}"
      ]
     },
     "execution_count": 7,
     "metadata": {},
     "output_type": "execute_result"
    }
   ],
   "source": [
    "Dual.run()\n",
    "\n",
    "\n",
    "# Khảo sát số lượt Random, số lượt Minimax\n",
    "Dual.player1.stat\n",
    "Dual.player2.stat"
   ]
  }
 ],
 "metadata": {
  "kernelspec": {
   "display_name": "Python 3",
   "language": "python",
   "name": "python3"
  },
  "language_info": {
   "codemirror_mode": {
    "name": "ipython",
    "version": 3
   },
   "file_extension": ".py",
   "mimetype": "text/x-python",
   "name": "python",
   "nbconvert_exporter": "python",
   "pygments_lexer": "ipython3",
   "version": "3.13.1"
  }
 },
 "nbformat": 4,
 "nbformat_minor": 2
}
